{
 "cells": [
  {
   "cell_type": "code",
   "execution_count": 8,
   "metadata": {},
   "outputs": [],
   "source": [
    "import numpy as np\n",
    "import pandas as pd\n",
    "import networkx as nx \n",
    "import random\n",
    "import matplotlib.pyplot as plt\n",
    "import scipy\n",
    "\n",
    "np.random.seed(1)\n",
    "random.seed(1)"
   ]
  },
  {
   "attachments": {},
   "cell_type": "markdown",
   "metadata": {},
   "source": [
    "Functions that will be used:\n"
   ]
  },
  {
   "cell_type": "code",
   "execution_count": 9,
   "metadata": {},
   "outputs": [],
   "source": [
    "def one_iteration(G, gamma, beta) : \n",
    "    list_healthy = []\n",
    "    list_infected = []\n",
    "    # Maybe there is abetter way to do that\n",
    "    for node, attribute in nx.get_node_attributes(G, \"Status\").items() : \n",
    "        if attribute == \"Infected\" : \n",
    "            list_infected.append(node)\n",
    "        else : list_healthy.append(node)\n",
    "    \n",
    "    # CREATE A LIST WITH THE INFECTED NODES THAT WILL RECOVER IN THIS STEP\n",
    "    list_recovered = []\n",
    "    for i in list_infected : \n",
    "        if random.uniform(0,1) < gamma : \n",
    "            list_recovered.append(i)\n",
    "\n",
    "    # CREATE A LIST WITH THE HEALTHY NODES THAT WILL BE INFECTED IN THIS STEP\n",
    "    for i in list_healthy : \n",
    "        neighbours_infected = [v for v in nx.neighbors(G, i) if G.nodes[v][\"Status\"] == \"Infected\"]\n",
    "        if not (random.uniform(0,1) < pow((1-beta),len(neighbours_infected))) :\n",
    "            G.nodes[i][\"Status\"] = \"Infected\" # (instead of creating a list we directly change their status)\n",
    "    \n",
    "    # UPDATE STATUS FOR THE NODES RECOVERED\n",
    "    for i in list_recovered : \n",
    "        G.nodes[i][\"Status\"] = \"Susceptible\"\n",
    "\n",
    "    # GET THE LISTS OF INFECTED AND SUSCEPTIBLE PEOPLE\n",
    "    list_infected = [u for (u,d) in nx.get_node_attributes(G, \"Status\").items() if d == 'Infected']\n",
    "    list_healthy = [u for (u,d) in nx.get_node_attributes(G, \"Status\").items() if d == 'Susceptible']\n",
    "    return G # , list_infected, list_healthy"
   ]
  },
  {
   "attachments": {},
   "cell_type": "markdown",
   "metadata": {},
   "source": [
    "We set the parameters of the model and create the netwroks:"
   ]
  },
  {
   "cell_type": "code",
   "execution_count": 10,
   "metadata": {},
   "outputs": [],
   "source": [
    "# Parameters\n",
    "total_pop = 1000\n",
    "p_0 = 0.01\n",
    "gamma = 0.1 # recovery rate\n",
    "beta_vec = [0.00005, 0.0001, 0.0002, 0.0003, 0.0004, 0.0005, 0.004, 0.005, 0.006, 0.01, 0.02, 0.04, 0.05, 0.1, 0.2]\n",
    "# beta = 0.025 # infection rate\n",
    "t_max = 100\n",
    "\n",
    "# Networks to be studied \n",
    "G_Kn = nx.complete_graph(total_pop)\n",
    "G_BA = nx.barabasi_albert_graph(total_pop, m = 5, seed = 1)\n",
    "G_WS = nx.watts_strogatz_graph(total_pop, k = 4, p = 0.2, seed = 1)\n",
    "# G_tree = nx.tree_graph(total_pop, seed = 1)\n",
    "# G_star = nx.star_graph(total_pop, seed = 1)\n",
    "# G_lattice = nx.latt\n",
    "G_ER = nx.erdos_renyi_graph(total_pop, p = 0.25, seed = 1) # SHOULD CHANGE P TO SOMETHING THAT IS LESS CONNECTED. \n",
    "\n",
    "\n"
   ]
  },
  {
   "attachments": {},
   "cell_type": "markdown",
   "metadata": {},
   "source": [
    "Set the status of each node at time 0"
   ]
  },
  {
   "cell_type": "code",
   "execution_count": 11,
   "metadata": {},
   "outputs": [],
   "source": [
    "# At first all the population is helathy\n",
    "nx.set_node_attributes(G_Kn, \"Susceptible\", \"Status\")\n",
    "nx.set_node_attributes(G_BA, \"Susceptible\", \"Status\")\n",
    "nx.set_node_attributes(G_WS, \"Susceptible\", \"Status\")\n",
    "nx.set_node_attributes(G_ER, \"Susceptible\", \"Status\")\n",
    "\n",
    "# Choose the nodes that will be infected at the begining\n",
    "infected_0 = np.random.choice(total_pop, int(p_0*total_pop), replace=False)\n",
    "\n",
    "# infected_0\n",
    "# G_Kn.nodes(data =True)\n",
    "# G_BA.nodes(data =True)\n",
    "# G_WS.nodes(data =True)\n",
    "# G_ER.nodes(data =True)\n",
    "\n",
    "# Change the status of those nodes to infected\n",
    "for i in infected_0 : \n",
    "    G_Kn.nodes[i][\"Status\"] = \"Infected\"\n",
    "    G_BA.nodes[i][\"Status\"] = \"Infected\"\n",
    "    G_WS.nodes[i][\"Status\"] = \"Infected\"\n",
    "    G_ER.nodes[i][\"Status\"] = \"Infected\"\n",
    "\n",
    "G_Kn_0 = G_Kn.copy()\n",
    "G_BA_0 = G_BA.copy()\n",
    "G_WS_0 = G_WS.copy()\n",
    "G_ER_0 = G_ER.copy()\n",
    "\n",
    "\n",
    "# In case we want to check it works\n",
    "# infected_neightbour_i = len([v for v in nx.neighbors(G_Kn, 0) if G_Kn.nodes[v][\"Status\"] == \"Infected\"])\n",
    "# infected_neightbour_i = len([v for v in nx.neighbors(G_BA, 0) if G_BA.nodes[v][\"Status\"] == \"Infected\"])\n",
    "# infected_neightbour_i = len([v for v in nx.neighbors(G_WS, 0) if G_WS.nodes[v][\"Status\"] == \"Infected\"])\n",
    "# infected_neightbour_i = len([v for v in nx.neighbors(G_ER, 0) if G_ER.nodes[v][\"Status\"] == \"Infected\"])\n",
    "# infected_neightbour_i"
   ]
  },
  {
   "attachments": {},
   "cell_type": "markdown",
   "metadata": {},
   "source": [
    "Code that computes the epidemic:"
   ]
  },
  {
   "cell_type": "code",
   "execution_count": null,
   "metadata": {},
   "outputs": [],
   "source": [
    "# Create DataFrames and save situation at time 0\n",
    "df_Kn = pd.DataFrame()\n",
    "df_BA = pd.DataFrame()\n",
    "df_WS = pd.DataFrame()\n",
    "df_ER = pd.DataFrame()\n",
    "df_Kn[0] = nx.get_node_attributes(G_Kn,\"Status\").values()\n",
    "df_BA[0] = nx.get_node_attributes(G_BA,\"Status\").values()\n",
    "df_WS[0] = nx.get_node_attributes(G_WS,\"Status\").values()\n",
    "df_ER[0] = nx.get_node_attributes(G_ER,\"Status\").values()\n",
    "\n",
    "\n",
    "for beta in beta_vec : \n",
    "    # Reset Default values\n",
    "    G_Kn = G_Kn_0.copy()\n",
    "    G_BA = G_BA_0.copy()\n",
    "    G_WS = G_WS_0.copy()\n",
    "    G_ER = G_ER_0.copy()\n",
    "\n",
    "    # Iterate trought time \n",
    "    for i in range(t_max) : # We will stop at t_max = 100 which should be enough considering our networks are of the size of 1000 nodes \n",
    "        # Simulates one step\n",
    "        G_Kn = one_iteration(G_Kn, gamma, beta)\n",
    "        G_BA = one_iteration(G_BA, gamma, beta)\n",
    "        G_WS = one_iteration(G_WS, gamma, beta)\n",
    "        G_ER = one_iteration(G_ER, gamma, beta)\n",
    "        # Save the results of the step in the DataFrames\n",
    "        df_Kn[i+1] = nx.get_node_attributes(G_Kn,\"Status\").values()\n",
    "        df_BA[i+1] = nx.get_node_attributes(G_BA,\"Status\").values()\n",
    "        df_WS[i+1] = nx.get_node_attributes(G_WS,\"Status\").values()\n",
    "        df_ER[i+1] = nx.get_node_attributes(G_ER,\"Status\").values()\n",
    "\n",
    "    df_Kn.to_csv(\"beta_\" + str(beta) + \"-Simulation_Kn.csv\", index = False)\n",
    "    df_BA.to_csv(\"beta_\" + str(beta) + \"-Simulation_BA.csv\", index = False)\n",
    "    df_WS.to_csv(\"beta_\" + str(beta) + \"-Simulation_WS.csv\", index = False)\n",
    "    df_ER.to_csv(\"beta_\" + str(beta) + \"-Simulation_ER.csv\", index = False)\n"
   ]
  },
  {
   "attachments": {},
   "cell_type": "markdown",
   "metadata": {},
   "source": [
    "With the previous block of code we have create several DataFrames. The following blocks will create the plots corresponding."
   ]
  },
  {
   "cell_type": "code",
   "execution_count": 13,
   "metadata": {},
   "outputs": [],
   "source": [
    "# Modify data to be shown\n",
    "# df_Kn.replace(to_replace=\"Susceptible\", value = 0, inplace = True)\n",
    "# df_Kn.replace(to_replace=\"Infected\", value = 1, inplace = True)\n",
    "# df_Kn.replace(to_replace=0, value = \"Susceptible\", inplace = True)\n",
    "# df_Kn.replace(to_replace=1, value = \"Infected\", inplace = True)\n",
    "\n",
    "# Read files in case is not computed previously\n",
    "df_Kn = pd.read_csv(\"beta_\" + str(beta_vec[0]) + \"-Simulation_Kn.csv\")\n",
    "df_BA = pd.read_csv(\"beta_\" + str(beta_vec[0]) + \"-Simulation_BA.csv\")\n",
    "df_WS = pd.read_csv(\"beta_\" + str(beta_vec[0]) + \"-Simulation_WS.csv\")\n",
    "df_ER = pd.read_csv(\"beta_\" + str(beta_vec[0]) + \"-Simulation_ER.csv\")\n",
    "\n",
    "\n",
    "df_plot_Kn = df_Kn.apply(pd.Series.value_counts).transpose() \n",
    "df_plot_BA = df_BA.apply(pd.Series.value_counts).transpose()\n",
    "df_plot_WS = df_WS.apply(pd.Series.value_counts).transpose()\n",
    "df_plot_ER = df_ER.apply(pd.Series.value_counts).transpose()\n"
   ]
  },
  {
   "cell_type": "code",
   "execution_count": 17,
   "metadata": {},
   "outputs": [
    {
     "data": {
      "text/plain": [
       "5e-05"
      ]
     },
     "execution_count": 17,
     "metadata": {},
     "output_type": "execute_result"
    }
   ],
   "source": [
    "beta_vec[0]"
   ]
  },
  {
   "cell_type": "code",
   "execution_count": 18,
   "metadata": {},
   "outputs": [],
   "source": [
    "df_plot = pd.concat([df_plot_Kn, df_plot_BA, df_plot_WS, df_plot_ER], axis = 1)\n",
    "df_plot.drop(df_plot.columns[[1, 3, 5, 7]], axis=1, inplace=True)\n",
    "df_plot.reset_index(inplace=True)\n",
    "df_plot.set_axis(['Time', 'Kn', 'BA', 'WS', 'ER'], axis='columns', inplace=True)"
   ]
  },
  {
   "cell_type": "code",
   "execution_count": 19,
   "metadata": {},
   "outputs": [
    {
     "data": {
      "text/html": [
       "<div>\n",
       "<style scoped>\n",
       "    .dataframe tbody tr th:only-of-type {\n",
       "        vertical-align: middle;\n",
       "    }\n",
       "\n",
       "    .dataframe tbody tr th {\n",
       "        vertical-align: top;\n",
       "    }\n",
       "\n",
       "    .dataframe thead th {\n",
       "        text-align: right;\n",
       "    }\n",
       "</style>\n",
       "<table border=\"1\" class=\"dataframe\">\n",
       "  <thead>\n",
       "    <tr style=\"text-align: right;\">\n",
       "      <th></th>\n",
       "      <th>Time</th>\n",
       "      <th>Kn</th>\n",
       "      <th>BA</th>\n",
       "      <th>WS</th>\n",
       "      <th>ER</th>\n",
       "    </tr>\n",
       "  </thead>\n",
       "  <tbody>\n",
       "    <tr>\n",
       "      <th>0</th>\n",
       "      <td>0</td>\n",
       "      <td>NaN</td>\n",
       "      <td>NaN</td>\n",
       "      <td>NaN</td>\n",
       "      <td>NaN</td>\n",
       "    </tr>\n",
       "    <tr>\n",
       "      <th>1</th>\n",
       "      <td>1</td>\n",
       "      <td>NaN</td>\n",
       "      <td>NaN</td>\n",
       "      <td>NaN</td>\n",
       "      <td>NaN</td>\n",
       "    </tr>\n",
       "    <tr>\n",
       "      <th>2</th>\n",
       "      <td>2</td>\n",
       "      <td>NaN</td>\n",
       "      <td>NaN</td>\n",
       "      <td>NaN</td>\n",
       "      <td>NaN</td>\n",
       "    </tr>\n",
       "    <tr>\n",
       "      <th>3</th>\n",
       "      <td>3</td>\n",
       "      <td>NaN</td>\n",
       "      <td>NaN</td>\n",
       "      <td>NaN</td>\n",
       "      <td>NaN</td>\n",
       "    </tr>\n",
       "    <tr>\n",
       "      <th>4</th>\n",
       "      <td>4</td>\n",
       "      <td>NaN</td>\n",
       "      <td>NaN</td>\n",
       "      <td>NaN</td>\n",
       "      <td>NaN</td>\n",
       "    </tr>\n",
       "    <tr>\n",
       "      <th>...</th>\n",
       "      <td>...</td>\n",
       "      <td>...</td>\n",
       "      <td>...</td>\n",
       "      <td>...</td>\n",
       "      <td>...</td>\n",
       "    </tr>\n",
       "    <tr>\n",
       "      <th>197</th>\n",
       "      <td>96.1</td>\n",
       "      <td>NaN</td>\n",
       "      <td>NaN</td>\n",
       "      <td>NaN</td>\n",
       "      <td>NaN</td>\n",
       "    </tr>\n",
       "    <tr>\n",
       "      <th>198</th>\n",
       "      <td>97.1</td>\n",
       "      <td>NaN</td>\n",
       "      <td>NaN</td>\n",
       "      <td>NaN</td>\n",
       "      <td>NaN</td>\n",
       "    </tr>\n",
       "    <tr>\n",
       "      <th>199</th>\n",
       "      <td>98.1</td>\n",
       "      <td>NaN</td>\n",
       "      <td>NaN</td>\n",
       "      <td>NaN</td>\n",
       "      <td>NaN</td>\n",
       "    </tr>\n",
       "    <tr>\n",
       "      <th>200</th>\n",
       "      <td>99.1</td>\n",
       "      <td>NaN</td>\n",
       "      <td>NaN</td>\n",
       "      <td>NaN</td>\n",
       "      <td>NaN</td>\n",
       "    </tr>\n",
       "    <tr>\n",
       "      <th>201</th>\n",
       "      <td>100.1</td>\n",
       "      <td>NaN</td>\n",
       "      <td>NaN</td>\n",
       "      <td>NaN</td>\n",
       "      <td>NaN</td>\n",
       "    </tr>\n",
       "  </tbody>\n",
       "</table>\n",
       "<p>202 rows × 5 columns</p>\n",
       "</div>"
      ],
      "text/plain": [
       "      Time  Kn  BA  WS  ER\n",
       "0        0 NaN NaN NaN NaN\n",
       "1        1 NaN NaN NaN NaN\n",
       "2        2 NaN NaN NaN NaN\n",
       "3        3 NaN NaN NaN NaN\n",
       "4        4 NaN NaN NaN NaN\n",
       "..     ...  ..  ..  ..  ..\n",
       "197   96.1 NaN NaN NaN NaN\n",
       "198   97.1 NaN NaN NaN NaN\n",
       "199   98.1 NaN NaN NaN NaN\n",
       "200   99.1 NaN NaN NaN NaN\n",
       "201  100.1 NaN NaN NaN NaN\n",
       "\n",
       "[202 rows x 5 columns]"
      ]
     },
     "execution_count": 19,
     "metadata": {},
     "output_type": "execute_result"
    }
   ],
   "source": [
    "df_plot"
   ]
  },
  {
   "cell_type": "code",
   "execution_count": 15,
   "metadata": {},
   "outputs": [
    {
     "data": {
      "image/png": "[encoded data removed]",
      "text/plain": [
       "<Figure size 432x288 with 1 Axes>"
      ]
     },
     "metadata": {
      "needs_background": "light"
     },
     "output_type": "display_data"
    }
   ],
   "source": [
    "plt.plot(df_plot[\"Time\"], df_plot[\"Kn\"], label = \"Complete graph\")\n",
    "plt.plot(df_plot[\"Time\"], df_plot[\"BA\"], label = \"Barabási-Albert\")\n",
    "plt.plot(df_plot[\"Time\"], df_plot[\"WS\"], label = \"Watts-Strogatz\")\n",
    "plt.plot(df_plot[\"Time\"], df_plot[\"ER\"], label = \"Erdös-Renyi\")\n",
    "plt.xticks([0,10,20,30,40,50,60,70,80,90,100])\n",
    "plt.yticks([0,200,400,600,800,1000])\n",
    "plt.title(\"Evolution with beta = \" + str(beta) + \" and gamma = \" + str(gamma))\n",
    "plt.legend()\n",
    "plt.show()"
   ]
  },
  {
   "attachments": {},
   "cell_type": "markdown",
   "metadata": {},
   "source": [
    "Study of the Eigenvalues"
   ]
  },
  {
   "cell_type": "code",
   "execution_count": 15,
   "metadata": {},
   "outputs": [
    {
     "name": "stderr",
     "output_type": "stream",
     "text": [
      "c:\\Users\\lluis\\anaconda3\\lib\\site-packages\\networkx\\linalg\\spectrum.py:110: FutureWarning: adjacency_matrix will return a scipy.sparse array instead of a matrix in Networkx 3.0.\n",
      "  return sp.linalg.eigvals(nx.adjacency_matrix(G, weight=weight).todense())\n"
     ]
    },
    {
     "data": {
      "text/plain": [
       "{'Kn': (999.0000000000058+0j),\n",
       " 'BA': (19.667384832947985+0j),\n",
       " 'WS': (4.2918319389779445+0j),\n",
       " 'ER': (251.08841165595697+0j)}"
      ]
     },
     "execution_count": 15,
     "metadata": {},
     "output_type": "execute_result"
    }
   ],
   "source": [
    "max_eigen = {'Kn': 0,'BA': 0,'WS': 0,'ER': 0}\n",
    "max_eigen['Kn'] = max(nx.adjacency_spectrum(G_Kn))\n",
    "max_eigen['BA'] = max(nx.adjacency_spectrum(G_BA))\n",
    "max_eigen['WS'] = max(nx.adjacency_spectrum(G_WS))\n",
    "max_eigen['ER'] = max(nx.adjacency_spectrum(G_ER))\n",
    "max_eigen"
   ]
  }
 ],
 "metadata": {
  "kernelspec": {
   "display_name": "base",
   "language": "python",
   "name": "python3"
  },
  "language_info": {
   "codemirror_mode": {
    "name": "ipython",
    "version": 3
   },
   "file_extension": ".py",
   "mimetype": "text/x-python",
   "name": "python",
   "nbconvert_exporter": "python",
   "pygments_lexer": "ipython3",
   "version": "3.9.12"
  },
  "orig_nbformat": 4,
  "vscode": {
   "interpreter": {
    "hash": "e4a8af9ce12676017e68f89b82f0e8c304a621588091e7dacc6baee5210494c7"
   }
  }
 },
 "nbformat": 4,
 "nbformat_minor": 2
}
