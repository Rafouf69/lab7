{
 "cells": [
  {
   "cell_type": "code",
   "execution_count": 2,
   "metadata": {},
   "outputs": [],
   "source": [
    "import numpy as np\n",
    "import pandas as pd\n",
    "import networkx as nx \n",
    "import random\n",
    "import matplotlib.pyplot as plt"
   ]
  },
  {
   "cell_type": "code",
   "execution_count": 3,
   "metadata": {},
   "outputs": [],
   "source": [
    "np.random.seed(1)\n",
    "random.seed(1)"
   ]
  },
  {
   "attachments": {},
   "cell_type": "markdown",
   "metadata": {},
   "source": [
    "Functions that will be used:"
   ]
  },
  {
   "cell_type": "code",
   "execution_count": null,
   "metadata": {},
   "outputs": [],
   "source": [
    "def one_iteration(G, gamma, beta) : \n",
    "    "
   ]
  },
  {
   "attachments": {},
   "cell_type": "markdown",
   "metadata": {},
   "source": [
    "We set the parameters of the model:"
   ]
  },
  {
   "cell_type": "code",
   "execution_count": 4,
   "metadata": {},
   "outputs": [],
   "source": [
    "total_pop = 1000\n",
    "p_0 = 0.01\n",
    "gamma = 0.2\n",
    "beta = 0.7"
   ]
  },
  {
   "attachments": {},
   "cell_type": "markdown",
   "metadata": {},
   "source": [
    "We create the graphs for each model"
   ]
  },
  {
   "cell_type": "code",
   "execution_count": 5,
   "metadata": {},
   "outputs": [],
   "source": [
    "G_complete = nx.complete_graph(total_pop)\n",
    "G_BA = nx.barabasi_albert_graph(total_pop, m = 5, seed = 1)\n",
    "G_WS = nx.watts_strogatz_graph(total_pop, k = 4, p = 0.2, seed = 1)\n",
    "# G_tree = nx.tree_graph(total_pop, seed = 1)\n",
    "# G_star = nx.star_graph(total_pop, seed = 1)\n",
    "# G_lattice = nx.latt\n",
    "G_ER = nx.erdos_renyi_graph(total_pop, p = 0.5, seed = 1)\n",
    "\n",
    "\n"
   ]
  },
  {
   "cell_type": "code",
   "execution_count": 6,
   "metadata": {},
   "outputs": [],
   "source": [
    "nx.set_node_attributes(G_complete, \"Susceptible\", \"Status\")\n",
    "nx.set_node_attributes(G_BA, \"Susceptible\", \"Status\")\n",
    "nx.set_node_attributes(G_WS, \"Susceptible\", \"Status\")\n",
    "nx.set_node_attributes(G_ER, \"Susceptible\", \"Status\")"
   ]
  },
  {
   "cell_type": "code",
   "execution_count": 7,
   "metadata": {},
   "outputs": [
    {
     "data": {
      "text/plain": [
       "array([507, 818, 452, 368, 242, 929, 262, 810, 318,  49])"
      ]
     },
     "execution_count": 7,
     "metadata": {},
     "output_type": "execute_result"
    }
   ],
   "source": [
    "infected_0 = np.random.choice(total_pop, int(p_0*total_pop), replace=False)\n",
    "infected_0"
   ]
  },
  {
   "cell_type": "code",
   "execution_count": null,
   "metadata": {},
   "outputs": [],
   "source": [
    "# G_complete.nodes(data =True)\n",
    "# G_BA.nodes(data =True)\n",
    "# G_WS.nodes(data =True)\n",
    "# G_ER.nodes(data =True)\n"
   ]
  },
  {
   "attachments": {},
   "cell_type": "markdown",
   "metadata": {},
   "source": [
    "We set the infected people at time 0"
   ]
  },
  {
   "cell_type": "code",
   "execution_count": 8,
   "metadata": {},
   "outputs": [],
   "source": [
    "for i in infected_0 : \n",
    "    G_complete.nodes[i][\"Status\"] = \"Infected\"\n",
    "    G_BA.nodes[i][\"Status\"] = \"Infected\"\n",
    "    G_WS.nodes[i][\"Status\"] = \"Infected\"\n",
    "    G_ER.nodes[i][\"Status\"] = \"Infected\""
   ]
  },
  {
   "cell_type": "code",
   "execution_count": 9,
   "metadata": {},
   "outputs": [],
   "source": [
    "infected_neightbour_i = len([v for v in nx.neighbors(G_complete, 0) if G_complete.nodes[v][\"Status\"] == \"Infected\"])\n",
    "# infected_neightbour_i = len([v for v in nx.neighbors(G_BA, 0) if G_BA.nodes[v][\"Status\"] == \"Infected\"])\n",
    "# infected_neightbour_i = len([v for v in nx.neighbors(G_WS, 0) if G_BA.nodes[v][\"Status\"] == \"Infected\"])\n",
    "# infected_neightbour_i = len([v for v in nx.neighbors(G_ER, 0) if G_BA.nodes[v][\"Status\"] == \"Infected\"])"
   ]
  },
  {
   "cell_type": "code",
   "execution_count": 10,
   "metadata": {},
   "outputs": [
    {
     "data": {
      "text/plain": [
       "10"
      ]
     },
     "execution_count": 10,
     "metadata": {},
     "output_type": "execute_result"
    }
   ],
   "source": [
    "infected_neightbour_i"
   ]
  },
  {
   "attachments": {},
   "cell_type": "markdown",
   "metadata": {},
   "source": [
    "Code that computes an iteration of the epidemic:"
   ]
  },
  {
   "cell_type": "code",
   "execution_count": 30,
   "metadata": {},
   "outputs": [],
   "source": [
    "list_healthy = []\n",
    "list_infected = []\n",
    "# Maybe there is abetter way to do that\n",
    "for node, attribute in nx.get_node_attributes(G_complete, \"Status\").items() : \n",
    "    if attribute == \"Infected\" : \n",
    "        list_infected.append(node)\n",
    "    else : list_healthy.append(node)"
   ]
  },
  {
   "cell_type": "code",
   "execution_count": 29,
   "metadata": {},
   "outputs": [],
   "source": [
    "# Another way to do the same as above\n",
    "# list_infected_2 = [u for (u,d) in nx.get_node_attributes(G_complete, \"Status\").items() if d == 'Infected']"
   ]
  },
  {
   "cell_type": "code",
   "execution_count": null,
   "metadata": {},
   "outputs": [],
   "source": [
    "# CREATE A LIST WITH THE INFECTED NODES THAT WILL RECOVER IN THIS STEP\n",
    "list_recovered = []\n",
    "for i in list_infected : \n",
    "    if random.uniform(0,1) < gamma : \n",
    "        list_recovered.append(i)\n",
    "\n",
    "# CREATE A LIST WOTH THE HEALTHY NODES THAT WILL BE INFECTED IN THIS STEP\n",
    "for i in list_healthy : \n",
    "    neighbours_infected = [v for v in nx.neighbors(G_complete, 0) if G_complete.nodes[v][\"Status\"] == \"Infected\"]\n",
    "    if not (random.uniform(0,1) < pow((1-beta),len(neighbours_infected))) :\n",
    "        G_complete.nodes[i][\"Status\"] = \"Infected\" # (instead of creating a list we directly change their status)\n",
    "\n",
    "for i in list_recovered : \n",
    "    G_complete.nodes[i][\"Status\"] = \"Susceptible\""
   ]
  },
  {
   "cell_type": "code",
   "execution_count": null,
   "metadata": {},
   "outputs": [],
   "source": []
  }
 ],
 "metadata": {
  "kernelspec": {
   "display_name": "base",
   "language": "python",
   "name": "python3"
  },
  "language_info": {
   "codemirror_mode": {
    "name": "ipython",
    "version": 3
   },
   "file_extension": ".py",
   "mimetype": "text/x-python",
   "name": "python",
   "nbconvert_exporter": "python",
   "pygments_lexer": "ipython3",
   "version": "3.9.12"
  },
  "orig_nbformat": 4,
  "vscode": {
   "interpreter": {
    "hash": "e4a8af9ce12676017e68f89b82f0e8c304a621588091e7dacc6baee5210494c7"
   }
  }
 },
 "nbformat": 4,
 "nbformat_minor": 2
}
