{
 "cells": [
  {
   "cell_type": "code",
   "execution_count": 8,
   "metadata": {},
   "outputs": [],
   "source": [
    "import numpy as np\n",
    "import pandas as pd\n",
    "import networkx as nx \n",
    "import random\n",
    "import matplotlib.pyplot as plt\n",
    "import scipy\n",
    "\n",
    "np.random.seed(1)\n",
    "random.seed(1)"
   ]
  },
  {
   "attachments": {},
   "cell_type": "markdown",
   "metadata": {},
   "source": [
    "Functions that will be used:\n"
   ]
  },
  {
   "cell_type": "code",
   "execution_count": 9,
   "metadata": {},
   "outputs": [],
   "source": [
    "def one_iteration(G, gamma, beta) : \n",
    "    list_healthy = []\n",
    "    list_infected = []\n",
    "    # Maybe there is abetter way to do that\n",
    "    for node, attribute in nx.get_node_attributes(G, \"Status\").items() : \n",
    "        if attribute == \"Infected\" : \n",
    "            list_infected.append(node)\n",
    "        else : list_healthy.append(node)\n",
    "    \n",
    "    # CREATE A LIST WITH THE INFECTED NODES THAT WILL RECOVER IN THIS STEP\n",
    "    list_recovered = []\n",
    "    for i in list_infected : \n",
    "        if random.uniform(0,1) < gamma : \n",
    "            list_recovered.append(i)\n",
    "\n",
    "    # CREATE A LIST WITH THE HEALTHY NODES THAT WILL BE INFECTED IN THIS STEP\n",
    "    for i in list_healthy : \n",
    "        neighbours_infected = [v for v in nx.neighbors(G, i) if G.nodes[v][\"Status\"] == \"Infected\"]\n",
    "        if not (random.uniform(0,1) < pow((1-beta),len(neighbours_infected))) :\n",
    "            G.nodes[i][\"Status\"] = \"Infected\" # (instead of creating a list we directly change their status)\n",
    "    \n",
    "    # UPDATE STATUS FOR THE NODES RECOVERED\n",
    "    for i in list_recovered : \n",
    "        G.nodes[i][\"Status\"] = \"Susceptible\"\n",
    "\n",
    "    # GET THE LISTS OF INFECTED AND SUSCEPTIBLE PEOPLE\n",
    "    list_infected = [u for (u,d) in nx.get_node_attributes(G, \"Status\").items() if d == 'Infected']\n",
    "    list_healthy = [u for (u,d) in nx.get_node_attributes(G, \"Status\").items() if d == 'Susceptible']\n",
    "    return G # , list_infected, list_healthy"
   ]
  },
  {
   "attachments": {},
   "cell_type": "markdown",
   "metadata": {},
   "source": [
    "We set the parameters of the model and create the netwroks:"
   ]
  },
  {
   "cell_type": "code",
   "execution_count": 10,
   "metadata": {},
   "outputs": [],
   "source": [
    "# Parameters\n",
    "total_pop = 1000\n",
    "p_0 = 0.01\n",
    "gamma = 0.1 # recovery rate\n",
    "beta_vec = [0.00005, 0.0001, 0.0002, 0.0003, 0.0004, 0.0005, 0.004, 0.005, 0.006, 0.01, 0.02, 0.04, 0.05, 0.1, 0.2]\n",
    "# beta = 0.025 # infection rate\n",
    "t_max = 100\n",
    "\n",
    "# Networks to be studied \n",
    "G_Kn = nx.complete_graph(total_pop)\n",
    "G_BA = nx.barabasi_albert_graph(total_pop, m = 5, seed = 1)\n",
    "G_WS = nx.watts_strogatz_graph(total_pop, k = 4, p = 0.2, seed = 1)\n",
    "# G_tree = nx.tree_graph(total_pop, seed = 1)\n",
    "# G_star = nx.star_graph(total_pop, seed = 1)\n",
    "# G_lattice = nx.latt\n",
    "G_ER = nx.erdos_renyi_graph(total_pop, p = 0.25, seed = 1) # SHOULD CHANGE P TO SOMETHING THAT IS LESS CONNECTED. \n",
    "\n",
    "\n"
   ]
  },
  {
   "attachments": {},
   "cell_type": "markdown",
   "metadata": {},
   "source": [
    "Set the status of each node at time 0"
   ]
  },
  {
   "cell_type": "code",
   "execution_count": 11,
   "metadata": {},
   "outputs": [],
   "source": [
    "# At first all the population is helathy\n",
    "nx.set_node_attributes(G_Kn, \"Susceptible\", \"Status\")\n",
    "nx.set_node_attributes(G_BA, \"Susceptible\", \"Status\")\n",
    "nx.set_node_attributes(G_WS, \"Susceptible\", \"Status\")\n",
    "nx.set_node_attributes(G_ER, \"Susceptible\", \"Status\")\n",
    "\n",
    "# Choose the nodes that will be infected at the begining\n",
    "infected_0 = np.random.choice(total_pop, int(p_0*total_pop), replace=False)\n",
    "\n",
    "# infected_0\n",
    "# G_Kn.nodes(data =True)\n",
    "# G_BA.nodes(data =True)\n",
    "# G_WS.nodes(data =True)\n",
    "# G_ER.nodes(data =True)\n",
    "\n",
    "# Change the status of those nodes to infected\n",
    "for i in infected_0 : \n",
    "    G_Kn.nodes[i][\"Status\"] = \"Infected\"\n",
    "    G_BA.nodes[i][\"Status\"] = \"Infected\"\n",
    "    G_WS.nodes[i][\"Status\"] = \"Infected\"\n",
    "    G_ER.nodes[i][\"Status\"] = \"Infected\"\n",
    "\n",
    "G_Kn_0 = G_Kn.copy()\n",
    "G_BA_0 = G_BA.copy()\n",
    "G_WS_0 = G_WS.copy()\n",
    "G_ER_0 = G_ER.copy()\n",
    "\n",
    "\n",
    "# In case we want to check it works\n",
    "# infected_neightbour_i = len([v for v in nx.neighbors(G_Kn, 0) if G_Kn.nodes[v][\"Status\"] == \"Infected\"])\n",
    "# infected_neightbour_i = len([v for v in nx.neighbors(G_BA, 0) if G_BA.nodes[v][\"Status\"] == \"Infected\"])\n",
    "# infected_neightbour_i = len([v for v in nx.neighbors(G_WS, 0) if G_WS.nodes[v][\"Status\"] == \"Infected\"])\n",
    "# infected_neightbour_i = len([v for v in nx.neighbors(G_ER, 0) if G_ER.nodes[v][\"Status\"] == \"Infected\"])\n",
    "# infected_neightbour_i"
   ]
  },
  {
   "attachments": {},
   "cell_type": "markdown",
   "metadata": {},
   "source": [
    "Code that computes the epidemic:"
   ]
  },
   "source": [
    "for beta in beta_vec : \n",
    "    # Reset Default values\n",
    "    G_Kn = G_Kn_0.copy()\n",
    "    G_BA = G_BA_0.copy()\n",
    "    G_WS = G_WS_0.copy()\n",
    "    G_ER = G_ER_0.copy()\n",
    "    \n",
    "    # Create DataFrames and save situation at time 0\n",
    "    df_Kn = pd.DataFrame()\n",
    "    df_BA = pd.DataFrame()\n",
    "    df_WS = pd.DataFrame()\n",
    "    df_ER = pd.DataFrame()\n",
    "    df_Kn[0] = nx.get_node_attributes(G_Kn,\"Status\").values()\n",
    "    df_BA[0] = nx.get_node_attributes(G_BA,\"Status\").values()\n",
    "    df_WS[0] = nx.get_node_attributes(G_WS,\"Status\").values()\n",
    "    df_ER[0] = nx.get_node_attributes(G_ER,\"Status\").values()\n",
    "\n",
    "    # Iterate trought time \n",
    "    for i in range(t_max) : # We will stop at t_max = 100 which should be enough considering our networks are of the size of 1000 nodes \n",
    "        # Simulates one step\n",
    "        G_Kn = one_iteration(G_Kn, gamma, beta)\n",
    "        G_BA = one_iteration(G_BA, gamma, beta)\n",
    "        G_WS = one_iteration(G_WS, gamma, beta)\n",
    "        G_ER = one_iteration(G_ER, gamma, beta)\n",
    "        # Save the results of the step in the DataFrames\n",
    "        df_Kn[i+1] = nx.get_node_attributes(G_Kn,\"Status\").values()\n",
    "        df_BA[i+1] = nx.get_node_attributes(G_BA,\"Status\").values()\n",
    "        df_WS[i+1] = nx.get_node_attributes(G_WS,\"Status\").values()\n",
    "        df_ER[i+1] = nx.get_node_attributes(G_ER,\"Status\").values()\n",
    "\n",
    "    df_Kn.to_csv(\"beta_\" + str(beta) + \"-Simulation_Kn.csv\", index = False)\n",
    "    df_BA.to_csv(\"beta_\" + str(beta) + \"-Simulation_BA.csv\", index = False)\n",
    "    df_WS.to_csv(\"beta_\" + str(beta) + \"-Simulation_WS.csv\", index = False)\n",
    "    df_ER.to_csv(\"beta_\" + str(beta) + \"-Simulation_ER.csv\", index = False)\n"
   ]
  },
  {
   "attachments": {},
   "cell_type": "markdown",
   "metadata": {},
   "source": [
    "With the previous block of code we have create several DataFrames. The following blocks will create the plots corresponding."
   ]
  },
  {
   "cell_type": "code",
   "execution_count": 31,
   "metadata": {},
   "outputs": [],
   "source": [
    "# Modify data to be shown\n",
    "# df_Kn.replace(to_replace=\"Susceptible\", value = 0, inplace = True)\n",
    "# df_Kn.replace(to_replace=\"Infected\", value = 1, inplace = True)\n",
    "# df_Kn.replace(to_replace=0, value = \"Susceptible\", inplace = True)\n",
    "# df_Kn.replace(to_replace=1, value = \"Infected\", inplace = True)\n",
    "\n",
    "# Read files in case is not computed previously\n",
    "df_Kn = pd.read_csv(\"beta_\" + str(beta_vec[2]) + \"-Simulation_Kn.csv\")\n",
    "df_BA = pd.read_csv(\"beta_\" + str(beta_vec[2]) + \"-Simulation_BA.csv\")\n",
    "df_WS = pd.read_csv(\"beta_\" + str(beta_vec[2]) + \"-Simulation_WS.csv\")\n",
    "df_ER = pd.read_csv(\"beta_\" + str(beta_vec[2]) + \"-Simulation_ER.csv\")\n",
    "\n",
    "\n",
    "df_plot_Kn = df_Kn.apply(pd.Series.value_counts).transpose() \n",
    "df_plot_BA = df_BA.apply(pd.Series.value_counts).transpose()\n",
    "df_plot_WS = df_WS.apply(pd.Series.value_counts).transpose()\n",
    "df_plot_ER = df_ER.apply(pd.Series.value_counts).transpose()\n"
   ]
  },
  {
   "cell_type": "code",
   "execution_count": 32,
   "metadata": {},
   "outputs": [
    {
     "data": {
      "text/plain": [
       "0.0002"
      ]
     },
     "execution_count": 32,
     "metadata": {},
     "output_type": "execute_result"
    }
   ],
   "source": [
    "beta_vec[2]"
   ]
  },
  {
   "cell_type": "code",
   "execution_count": 33,
   "metadata": {},
   "outputs": [],
   "source": [
    "df_plot = pd.concat([df_plot_Kn, df_plot_BA, df_plot_WS, df_plot_ER], axis = 1)\n",
    "df_plot.drop(df_plot.columns[[1, 3, 5, 7]], axis=1, inplace=True)\n",
    "df_plot.reset_index(inplace=True)\n",
    "df_plot.set_axis(['Time', 'Kn', 'BA', 'WS', 'ER'], axis='columns', inplace=True)"
   ]
  },
  {
   "cell_type": "code",
   "execution_count": 34,
   "metadata": {},
   "outputs": [
    {
     "data": {
      "text/html": [
       "<div>\n",
       "<style scoped>\n",
       "    .dataframe tbody tr th:only-of-type {\n",
       "        vertical-align: middle;\n",
       "    }\n",
       "\n",
       "    .dataframe tbody tr th {\n",
       "        vertical-align: top;\n",
       "    }\n",
       "\n",
       "    .dataframe thead th {\n",
       "        text-align: right;\n",
       "    }\n",
       "</style>\n",
       "<table border=\"1\" class=\"dataframe\">\n",
       "  <thead>\n",
       "    <tr style=\"text-align: right;\">\n",
       "      <th></th>\n",
       "      <th>Time</th>\n",
       "      <th>Kn</th>\n",
       "      <th>BA</th>\n",
       "      <th>WS</th>\n",
       "      <th>ER</th>\n",
       "    </tr>\n",
       "  </thead>\n",
       "  <tbody>\n",
       "    <tr>\n",
       "      <th>0</th>\n",
       "      <td>0</td>\n",
       "      <td>39</td>\n",
       "      <td>NaN</td>\n",
       "      <td>NaN</td>\n",
       "      <td>NaN</td>\n",
       "    </tr>\n",
       "    <tr>\n",
       "      <th>1</th>\n",
       "      <td>1</td>\n",
       "      <td>8</td>\n",
       "      <td>8.0</td>\n",
       "      <td>8.0</td>\n",
       "      <td>9.0</td>\n",
       "    </tr>\n",
       "    <tr>\n",
       "      <th>2</th>\n",
       "      <td>2</td>\n",
       "      <td>12</td>\n",
       "      <td>8.0</td>\n",
       "      <td>5.0</td>\n",
       "      <td>8.0</td>\n",
       "    </tr>\n",
       "    <tr>\n",
       "      <th>3</th>\n",
       "      <td>3</td>\n",
       "      <td>14</td>\n",
       "      <td>5.0</td>\n",
       "      <td>5.0</td>\n",
       "      <td>7.0</td>\n",
       "    </tr>\n",
       "    <tr>\n",
       "      <th>4</th>\n",
       "      <td>4</td>\n",
       "      <td>18</td>\n",
       "      <td>1.0</td>\n",
       "      <td>4.0</td>\n",
       "      <td>7.0</td>\n",
       "    </tr>\n",
       "    <tr>\n",
       "      <th>...</th>\n",
       "      <td>...</td>\n",
       "      <td>...</td>\n",
       "      <td>...</td>\n",
       "      <td>...</td>\n",
       "      <td>...</td>\n",
       "    </tr>\n",
       "    <tr>\n",
       "      <th>96</th>\n",
       "      <td>96</td>\n",
       "      <td>483</td>\n",
       "      <td>NaN</td>\n",
       "      <td>NaN</td>\n",
       "      <td>NaN</td>\n",
       "    </tr>\n",
       "    <tr>\n",
       "      <th>97</th>\n",
       "      <td>97</td>\n",
       "      <td>469</td>\n",
       "      <td>NaN</td>\n",
       "      <td>NaN</td>\n",
       "      <td>NaN</td>\n",
       "    </tr>\n",
       "    <tr>\n",
       "      <th>98</th>\n",
       "      <td>98</td>\n",
       "      <td>477</td>\n",
       "      <td>NaN</td>\n",
       "      <td>NaN</td>\n",
       "      <td>NaN</td>\n",
       "    </tr>\n",
       "    <tr>\n",
       "      <th>99</th>\n",
       "      <td>99</td>\n",
       "      <td>484</td>\n",
       "      <td>NaN</td>\n",
       "      <td>NaN</td>\n",
       "      <td>NaN</td>\n",
       "    </tr>\n",
       "    <tr>\n",
       "      <th>100</th>\n",
       "      <td>100</td>\n",
       "      <td>500</td>\n",
       "      <td>NaN</td>\n",
       "      <td>NaN</td>\n",
       "      <td>NaN</td>\n",
       "    </tr>\n",
       "  </tbody>\n",
       "</table>\n",
       "<p>101 rows × 5 columns</p>\n",
       "</div>"
      ],
      "text/plain": [
       "    Time   Kn   BA   WS   ER\n",
       "0      0   39  NaN  NaN  NaN\n",
       "1      1    8  8.0  8.0  9.0\n",
       "2      2   12  8.0  5.0  8.0\n",
       "3      3   14  5.0  5.0  7.0\n",
       "4      4   18  1.0  4.0  7.0\n",
       "..   ...  ...  ...  ...  ...\n",
       "96    96  483  NaN  NaN  NaN\n",
       "97    97  469  NaN  NaN  NaN\n",
       "98    98  477  NaN  NaN  NaN\n",
       "99    99  484  NaN  NaN  NaN\n",
       "100  100  500  NaN  NaN  NaN\n",
       "\n",
       "[101 rows x 5 columns]"
      ]
     },
     "execution_count": 34,
     "metadata": {},
     "output_type": "execute_result"
    }
   ],
   "source": [
    "df_plot"
   ]
  },
  {
   "cell_type": "code",
   "execution_count": 27,
   "metadata": {},
   "outputs": [
    {
     "data": {
      "image/png": "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",
      "text/plain": [
       "<Figure size 432x288 with 1 Axes>"
      ]
     },
     "metadata": {
      "needs_background": "light"
     },
     "output_type": "display_data"
    }
   ],
   "source": [
    "plt.plot(df_plot[\"Time\"], df_plot[\"Kn\"], label = \"Complete graph\")\n",
    "plt.plot(df_plot[\"Time\"], df_plot[\"BA\"], label = \"Barabási-Albert\")\n",
    "plt.plot(df_plot[\"Time\"], df_plot[\"WS\"], label = \"Watts-Strogatz\")\n",
    "plt.plot(df_plot[\"Time\"], df_plot[\"ER\"], label = \"Erdös-Renyi\")\n",
    "plt.xticks([0,10,20,30,40,50,60,70,80,90,100])\n",
    "plt.yticks([0,200,400,600,800,1000])\n",
    "plt.title(\"Evolution with beta = \" + str(beta_vec[2]) + \" and gamma = \" + str(gamma))\n",
    "plt.legend()\n",
    "plt.show()"
   ]
  },
  {
   "attachments": {},
   "cell_type": "markdown",
   "metadata": {},
   "source": [
    "Study of the Eigenvalues"
   ]
  },
  {
   "cell_type": "code",
   "execution_count": 15,
   "metadata": {},
   "outputs": [
    {
     "name": "stderr",
     "output_type": "stream",
     "text": [
      "c:\\Users\\lluis\\anaconda3\\lib\\site-packages\\networkx\\linalg\\spectrum.py:110: FutureWarning: adjacency_matrix will return a scipy.sparse array instead of a matrix in Networkx 3.0.\n",
      "  return sp.linalg.eigvals(nx.adjacency_matrix(G, weight=weight).todense())\n"
     ]
    },
    {
     "data": {
      "text/plain": [
       "{'Kn': (999.0000000000058+0j),\n",
       " 'BA': (19.667384832947985+0j),\n",
       " 'WS': (4.2918319389779445+0j),\n",
       " 'ER': (251.08841165595697+0j)}"
      ]
     },
     "execution_count": 15,
     "metadata": {},
     "output_type": "execute_result"
    }
   ],
   "source": [
    "max_eigen = {'Kn': 0,'BA': 0,'WS': 0,'ER': 0}\n",
    "max_eigen['Kn'] = max(nx.adjacency_spectrum(G_Kn))\n",
    "max_eigen['BA'] = max(nx.adjacency_spectrum(G_BA))\n",
    "max_eigen['WS'] = max(nx.adjacency_spectrum(G_WS))\n",
    "max_eigen['ER'] = max(nx.adjacency_spectrum(G_ER))\n",
    "max_eigen"
   ]
  }
 ],
 "metadata": {
  "kernelspec": {
   "display_name": "base",
   "language": "python",
   "name": "python3"
  },
  "language_info": {
   "codemirror_mode": {
    "name": "ipython",
    "version": 3
   },
   "file_extension": ".py",
   "mimetype": "text/x-python",
   "name": "python",
   "nbconvert_exporter": "python",
   "pygments_lexer": "ipython3",
   "version": "3.9.12"
  },
  "orig_nbformat": 4,
  "vscode": {
   "interpreter": {
    "hash": "e4a8af9ce12676017e68f89b82f0e8c304a621588091e7dacc6baee5210494c7"
   }
  }
 },
 "nbformat": 4,
 "nbformat_minor": 2
}
