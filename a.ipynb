{
 "cells": [
  {
   "cell_type": "code",
   "execution_count": null,
   "metadata": {},
   "outputs": [],
   "source": [
    "import numpy as np\n",
    "import pandas as pd\n",
    "import networkx as nx \n",
    "import random"
   ]
  },
  {
   "cell_type": "code",
   "execution_count": null,
   "metadata": {},
   "outputs": [],
   "source": [
    "np.random.seed(1)\n",
    "random.seed(1)"
   ]
  },
  {
   "attachments": {},
   "cell_type": "markdown",
   "metadata": {},
   "source": [
    "We create the graphs for each model"
   ]
  },
  {
   "cell_type": "code",
   "execution_count": null,
   "metadata": {},
   "outputs": [],
   "source": [
    "G_complete = nx.complete_graph(1000)\n",
    "G_BA = nx.barabasi_albert_graph(1000, m = 5, seed = 1)\n",
    "G_WS = nx.watts_strogatz_graph(1000, k = 4, p = 0.2, seed = 1)\n",
    "# G_tree = nx.tree_graph(1000, seed = 1)\n",
    "# G_star = nx.star_graph(1000, seed = 1)\n",
    "# G_lattice = nx.latt\n",
    "G_ER = nx.erdos_renyi_graph(1000, p = 0.5, seed = 1)\n",
    "\n",
    "\n"
   ]
  },
  {
   "cell_type": "code",
   "execution_count": null,
   "metadata": {},
   "outputs": [],
   "source": [
    "nx.set_node_attributes(G_complete, \"Susceptible\", \"Status\")\n",
    "nx.set_node_attributes(G_BA, \"Susceptible\", \"Status\")\n",
    "nx.set_node_attributes(G_WS, \"Susceptible\", \"Status\")\n",
    "nx.set_node_attributes(G_ER, \"Susceptible\", \"Status\")"
   ]
  },
  {
   "cell_type": "code",
   "execution_count": null,
   "metadata": {},
   "outputs": [],
   "source": [
    "p_0 = 0.01\n",
    "# population_array = np.arange(1000)\n",
    "infected_0 = np.random.choice(1000, int(p_0*1000), replace=False)"
   ]
  },
  {
   "cell_type": "code",
   "execution_count": null,
   "metadata": {},
   "outputs": [],
   "source": [
    "infected_0"
   ]
  },
  {
   "cell_type": "code",
   "execution_count": null,
   "metadata": {},
   "outputs": [],
   "source": [
    "# G_complete.nodes(data =True)\n",
    "# G_BA.nodes(data =True)\n",
    "# G_WS.nodes(data =True)\n",
    "# G_ER.nodes(data =True)\n"
   ]
  },
  {
   "attachments": {},
   "cell_type": "markdown",
   "metadata": {},
   "source": [
    "We set the infected people at time 0"
   ]
  },
  {
   "cell_type": "code",
   "execution_count": null,
   "metadata": {},
   "outputs": [],
   "source": [
    "for i in infected_0 : \n",
    "    G_complete.nodes[i][\"Status\"] = \"Infected\"\n",
    "    G_BA.nodes[i][\"Status\"] = \"Infected\"\n",
    "    G_WS.nodes[i][\"Status\"] = \"Infected\"\n",
    "    G_ER.nodes[i][\"Status\"] = \"Infected\""
   ]
  },
  {
   "cell_type": "code",
   "execution_count": null,
   "metadata": {},
   "outputs": [],
   "source": [
    "infected_neightbour_i = len([v for v in nx.neighbors(G_complete, 0) if G_complete.nodes[v][\"Status\"] == \"Infected\"])\n",
    "# infected_neightbour_i = len([v for v in nx.neighbors(G_BA, 0) if G_BA.nodes[v][\"Status\"] == \"Infected\"])\n",
    "# infected_neightbour_i = len([v for v in nx.neighbors(G_WS, 0) if G_BA.nodes[v][\"Status\"] == \"Infected\"])\n",
    "# infected_neightbour_i = len([v for v in nx.neighbors(G_ER, 0) if G_BA.nodes[v][\"Status\"] == \"Infected\"])"
   ]
  },
  {
   "cell_type": "code",
   "execution_count": null,
   "metadata": {},
   "outputs": [],
   "source": [
    "infected_neightbour_i"
   ]
  },
  {
   "cell_type": "code",
   "execution_count": null,
   "metadata": {},
   "outputs": [],
   "source": [
    "list_healthy = []\n",
    "list_infected = []\n",
    "# Maybe there is abetter way to do that\n",
    "for node, attribute in nx.get_node_attributes(G_complete, \"Status\").items() : \n",
    "    if attribute == \"Infected\" : \n",
    "        list_infected.append(node)\n",
    "    else : list_healthy.append(node)"
   ]
  },
  {
   "cell_type": "code",
   "execution_count": null,
   "metadata": {},
   "outputs": [],
   "source": [
    "list_recovered = []"
   ]
  }
 ],
 "metadata": {
  "kernelspec": {
   "display_name": "base",
   "language": "python",
   "name": "python3"
  },
  "language_info": {
   "codemirror_mode": {
    "name": "ipython",
    "version": 3
   },
   "file_extension": ".py",
   "mimetype": "text/x-python",
   "name": "python",
   "nbconvert_exporter": "python",
   "pygments_lexer": "ipython3",
   "version": "3.9.12 (main, Apr  4 2022, 05:22:27) [MSC v.1916 64 bit (AMD64)]"
  },
  "orig_nbformat": 4,
  "vscode": {
   "interpreter": {
    "hash": "e4a8af9ce12676017e68f89b82f0e8c304a621588091e7dacc6baee5210494c7"
   }
  }
 },
 "nbformat": 4,
 "nbformat_minor": 2
}
